{
  "cells": [
    {
      "cell_type": "markdown",
      "metadata": {
        "id": "view-in-github",
        "colab_type": "text"
      },
      "source": [
        "<a href=\"https://colab.research.google.com/github/MohamedHmamouch/SpeechToText/blob/Building-Transformer-Model/SpeechToText.ipynb\" target=\"_parent\"><img src=\"https://colab.research.google.com/assets/colab-badge.svg\" alt=\"Open In Colab\"/></a>"
      ]
    },
    {
      "cell_type": "code",
      "execution_count": 1,
      "metadata": {
        "colab": {
          "base_uri": "https://localhost:8080/"
        },
        "id": "3uxMythOnuaB",
        "outputId": "19da7324-b427-46dd-ce03-3251541589ae"
      },
      "outputs": [
        {
          "output_type": "stream",
          "name": "stdout",
          "text": [
            "Found existing installation: tensorflow 2.17.0\n",
            "Uninstalling tensorflow-2.17.0:\n",
            "  Successfully uninstalled tensorflow-2.17.0\n",
            "Collecting tensorflow==2.8\n",
            "  Downloading tensorflow-2.8.0-cp310-cp310-manylinux2010_x86_64.whl.metadata (2.9 kB)\n",
            "Requirement already satisfied: absl-py>=0.4.0 in /usr/local/lib/python3.10/dist-packages (from tensorflow==2.8) (1.4.0)\n",
            "Requirement already satisfied: astunparse>=1.6.0 in /usr/local/lib/python3.10/dist-packages (from tensorflow==2.8) (1.6.3)\n",
            "Requirement already satisfied: flatbuffers>=1.12 in /usr/local/lib/python3.10/dist-packages (from tensorflow==2.8) (24.3.25)\n",
            "Requirement already satisfied: gast>=0.2.1 in /usr/local/lib/python3.10/dist-packages (from tensorflow==2.8) (0.6.0)\n",
            "Requirement already satisfied: google-pasta>=0.1.1 in /usr/local/lib/python3.10/dist-packages (from tensorflow==2.8) (0.2.0)\n",
            "Requirement already satisfied: h5py>=2.9.0 in /usr/local/lib/python3.10/dist-packages (from tensorflow==2.8) (3.11.0)\n",
            "Collecting keras-preprocessing>=1.1.1 (from tensorflow==2.8)\n",
            "  Downloading Keras_Preprocessing-1.1.2-py2.py3-none-any.whl.metadata (1.9 kB)\n",
            "Requirement already satisfied: libclang>=9.0.1 in /usr/local/lib/python3.10/dist-packages (from tensorflow==2.8) (18.1.1)\n",
            "Requirement already satisfied: numpy>=1.20 in /usr/local/lib/python3.10/dist-packages (from tensorflow==2.8) (1.26.4)\n",
            "Requirement already satisfied: opt-einsum>=2.3.2 in /usr/local/lib/python3.10/dist-packages (from tensorflow==2.8) (3.3.0)\n",
            "Requirement already satisfied: protobuf>=3.9.2 in /usr/local/lib/python3.10/dist-packages (from tensorflow==2.8) (3.20.3)\n",
            "Requirement already satisfied: setuptools in /usr/local/lib/python3.10/dist-packages (from tensorflow==2.8) (71.0.4)\n",
            "Requirement already satisfied: six>=1.12.0 in /usr/local/lib/python3.10/dist-packages (from tensorflow==2.8) (1.16.0)\n",
            "Requirement already satisfied: termcolor>=1.1.0 in /usr/local/lib/python3.10/dist-packages (from tensorflow==2.8) (2.4.0)\n",
            "Requirement already satisfied: typing-extensions>=3.6.6 in /usr/local/lib/python3.10/dist-packages (from tensorflow==2.8) (4.12.2)\n",
            "Requirement already satisfied: wrapt>=1.11.0 in /usr/local/lib/python3.10/dist-packages (from tensorflow==2.8) (1.16.0)\n",
            "Collecting tensorboard<2.9,>=2.8 (from tensorflow==2.8)\n",
            "  Downloading tensorboard-2.8.0-py3-none-any.whl.metadata (1.9 kB)\n",
            "Collecting tf-estimator-nightly==2.8.0.dev2021122109 (from tensorflow==2.8)\n",
            "  Downloading tf_estimator_nightly-2.8.0.dev2021122109-py2.py3-none-any.whl.metadata (1.2 kB)\n",
            "Collecting keras<2.9,>=2.8.0rc0 (from tensorflow==2.8)\n",
            "  Downloading keras-2.8.0-py2.py3-none-any.whl.metadata (1.3 kB)\n",
            "Requirement already satisfied: tensorflow-io-gcs-filesystem>=0.23.1 in /usr/local/lib/python3.10/dist-packages (from tensorflow==2.8) (0.37.1)\n",
            "Requirement already satisfied: grpcio<2.0,>=1.24.3 in /usr/local/lib/python3.10/dist-packages (from tensorflow==2.8) (1.64.1)\n",
            "Requirement already satisfied: wheel<1.0,>=0.23.0 in /usr/local/lib/python3.10/dist-packages (from astunparse>=1.6.0->tensorflow==2.8) (0.44.0)\n",
            "Requirement already satisfied: google-auth<3,>=1.6.3 in /usr/local/lib/python3.10/dist-packages (from tensorboard<2.9,>=2.8->tensorflow==2.8) (2.27.0)\n",
            "Collecting google-auth-oauthlib<0.5,>=0.4.1 (from tensorboard<2.9,>=2.8->tensorflow==2.8)\n",
            "  Downloading google_auth_oauthlib-0.4.6-py2.py3-none-any.whl.metadata (2.7 kB)\n",
            "Requirement already satisfied: markdown>=2.6.8 in /usr/local/lib/python3.10/dist-packages (from tensorboard<2.9,>=2.8->tensorflow==2.8) (3.6)\n",
            "Requirement already satisfied: requests<3,>=2.21.0 in /usr/local/lib/python3.10/dist-packages (from tensorboard<2.9,>=2.8->tensorflow==2.8) (2.32.3)\n",
            "Collecting tensorboard-data-server<0.7.0,>=0.6.0 (from tensorboard<2.9,>=2.8->tensorflow==2.8)\n",
            "  Downloading tensorboard_data_server-0.6.1-py3-none-manylinux2010_x86_64.whl.metadata (1.1 kB)\n",
            "Collecting tensorboard-plugin-wit>=1.6.0 (from tensorboard<2.9,>=2.8->tensorflow==2.8)\n",
            "  Downloading tensorboard_plugin_wit-1.8.1-py3-none-any.whl.metadata (873 bytes)\n",
            "Requirement already satisfied: werkzeug>=0.11.15 in /usr/local/lib/python3.10/dist-packages (from tensorboard<2.9,>=2.8->tensorflow==2.8) (3.0.3)\n",
            "Requirement already satisfied: cachetools<6.0,>=2.0.0 in /usr/local/lib/python3.10/dist-packages (from google-auth<3,>=1.6.3->tensorboard<2.9,>=2.8->tensorflow==2.8) (5.4.0)\n",
            "Requirement already satisfied: pyasn1-modules>=0.2.1 in /usr/local/lib/python3.10/dist-packages (from google-auth<3,>=1.6.3->tensorboard<2.9,>=2.8->tensorflow==2.8) (0.4.0)\n",
            "Requirement already satisfied: rsa<5,>=3.1.4 in /usr/local/lib/python3.10/dist-packages (from google-auth<3,>=1.6.3->tensorboard<2.9,>=2.8->tensorflow==2.8) (4.9)\n",
            "Requirement already satisfied: requests-oauthlib>=0.7.0 in /usr/local/lib/python3.10/dist-packages (from google-auth-oauthlib<0.5,>=0.4.1->tensorboard<2.9,>=2.8->tensorflow==2.8) (1.3.1)\n",
            "Requirement already satisfied: charset-normalizer<4,>=2 in /usr/local/lib/python3.10/dist-packages (from requests<3,>=2.21.0->tensorboard<2.9,>=2.8->tensorflow==2.8) (3.3.2)\n",
            "Requirement already satisfied: idna<4,>=2.5 in /usr/local/lib/python3.10/dist-packages (from requests<3,>=2.21.0->tensorboard<2.9,>=2.8->tensorflow==2.8) (3.7)\n",
            "Requirement already satisfied: urllib3<3,>=1.21.1 in /usr/local/lib/python3.10/dist-packages (from requests<3,>=2.21.0->tensorboard<2.9,>=2.8->tensorflow==2.8) (2.0.7)\n",
            "Requirement already satisfied: certifi>=2017.4.17 in /usr/local/lib/python3.10/dist-packages (from requests<3,>=2.21.0->tensorboard<2.9,>=2.8->tensorflow==2.8) (2024.7.4)\n",
            "Requirement already satisfied: MarkupSafe>=2.1.1 in /usr/local/lib/python3.10/dist-packages (from werkzeug>=0.11.15->tensorboard<2.9,>=2.8->tensorflow==2.8) (2.1.5)\n",
            "Requirement already satisfied: pyasn1<0.7.0,>=0.4.6 in /usr/local/lib/python3.10/dist-packages (from pyasn1-modules>=0.2.1->google-auth<3,>=1.6.3->tensorboard<2.9,>=2.8->tensorflow==2.8) (0.6.0)\n",
            "Requirement already satisfied: oauthlib>=3.0.0 in /usr/local/lib/python3.10/dist-packages (from requests-oauthlib>=0.7.0->google-auth-oauthlib<0.5,>=0.4.1->tensorboard<2.9,>=2.8->tensorflow==2.8) (3.2.2)\n",
            "Downloading tensorflow-2.8.0-cp310-cp310-manylinux2010_x86_64.whl (497.6 MB)\n",
            "\u001b[2K   \u001b[90m━━━━━━━━━━━━━━━━━━━━━━━━━━━━━━━━━━━━━━━━\u001b[0m \u001b[32m497.6/497.6 MB\u001b[0m \u001b[31m3.2 MB/s\u001b[0m eta \u001b[36m0:00:00\u001b[0m\n",
            "\u001b[?25hDownloading tf_estimator_nightly-2.8.0.dev2021122109-py2.py3-none-any.whl (462 kB)\n",
            "\u001b[2K   \u001b[90m━━━━━━━━━━━━━━━━━━━━━━━━━━━━━━━━━━━━━━━━\u001b[0m \u001b[32m462.5/462.5 kB\u001b[0m \u001b[31m22.4 MB/s\u001b[0m eta \u001b[36m0:00:00\u001b[0m\n",
            "\u001b[?25hDownloading keras-2.8.0-py2.py3-none-any.whl (1.4 MB)\n",
            "\u001b[2K   \u001b[90m━━━━━━━━━━━━━━━━━━━━━━━━━━━━━━━━━━━━━━━━\u001b[0m \u001b[32m1.4/1.4 MB\u001b[0m \u001b[31m38.8 MB/s\u001b[0m eta \u001b[36m0:00:00\u001b[0m\n",
            "\u001b[?25hDownloading Keras_Preprocessing-1.1.2-py2.py3-none-any.whl (42 kB)\n",
            "\u001b[2K   \u001b[90m━━━━━━━━━━━━━━━━━━━━━━━━━━━━━━━━━━━━━━━━\u001b[0m \u001b[32m42.6/42.6 kB\u001b[0m \u001b[31m3.5 MB/s\u001b[0m eta \u001b[36m0:00:00\u001b[0m\n",
            "\u001b[?25hDownloading tensorboard-2.8.0-py3-none-any.whl (5.8 MB)\n",
            "\u001b[2K   \u001b[90m━━━━━━━━━━━━━━━━━━━━━━━━━━━━━━━━━━━━━━━━\u001b[0m \u001b[32m5.8/5.8 MB\u001b[0m \u001b[31m55.2 MB/s\u001b[0m eta \u001b[36m0:00:00\u001b[0m\n",
            "\u001b[?25hDownloading google_auth_oauthlib-0.4.6-py2.py3-none-any.whl (18 kB)\n",
            "Downloading tensorboard_data_server-0.6.1-py3-none-manylinux2010_x86_64.whl (4.9 MB)\n",
            "\u001b[2K   \u001b[90m━━━━━━━━━━━━━━━━━━━━━━━━━━━━━━━━━━━━━━━━\u001b[0m \u001b[32m4.9/4.9 MB\u001b[0m \u001b[31m26.3 MB/s\u001b[0m eta \u001b[36m0:00:00\u001b[0m\n",
            "\u001b[?25hDownloading tensorboard_plugin_wit-1.8.1-py3-none-any.whl (781 kB)\n",
            "\u001b[2K   \u001b[90m━━━━━━━━━━━━━━━━━━━━━━━━━━━━━━━━━━━━━━━━\u001b[0m \u001b[32m781.3/781.3 kB\u001b[0m \u001b[31m20.8 MB/s\u001b[0m eta \u001b[36m0:00:00\u001b[0m\n",
            "\u001b[?25hInstalling collected packages: tf-estimator-nightly, tensorboard-plugin-wit, keras, tensorboard-data-server, keras-preprocessing, google-auth-oauthlib, tensorboard, tensorflow\n",
            "  Attempting uninstall: keras\n",
            "    Found existing installation: keras 3.4.1\n",
            "    Uninstalling keras-3.4.1:\n",
            "      Successfully uninstalled keras-3.4.1\n",
            "  Attempting uninstall: tensorboard-data-server\n",
            "    Found existing installation: tensorboard-data-server 0.7.2\n",
            "    Uninstalling tensorboard-data-server-0.7.2:\n",
            "      Successfully uninstalled tensorboard-data-server-0.7.2\n",
            "  Attempting uninstall: google-auth-oauthlib\n",
            "    Found existing installation: google-auth-oauthlib 1.2.1\n",
            "    Uninstalling google-auth-oauthlib-1.2.1:\n",
            "      Successfully uninstalled google-auth-oauthlib-1.2.1\n",
            "  Attempting uninstall: tensorboard\n",
            "    Found existing installation: tensorboard 2.17.0\n",
            "    Uninstalling tensorboard-2.17.0:\n",
            "      Successfully uninstalled tensorboard-2.17.0\n",
            "\u001b[31mERROR: pip's dependency resolver does not currently take into account all the packages that are installed. This behaviour is the source of the following dependency conflicts.\n",
            "pandas-gbq 0.23.1 requires google-auth-oauthlib>=0.7.0, but you have google-auth-oauthlib 0.4.6 which is incompatible.\n",
            "tf-keras 2.17.0 requires tensorflow<2.18,>=2.17, but you have tensorflow 2.8.0 which is incompatible.\u001b[0m\u001b[31m\n",
            "\u001b[0mSuccessfully installed google-auth-oauthlib-0.4.6 keras-2.8.0 keras-preprocessing-1.1.2 tensorboard-2.8.0 tensorboard-data-server-0.6.1 tensorboard-plugin-wit-1.8.1 tensorflow-2.8.0 tf-estimator-nightly-2.8.0.dev2021122109\n",
            "Requirement already satisfied: keras in /usr/local/lib/python3.10/dist-packages (2.8.0)\n"
          ]
        }
      ],
      "source": [
        "!pip uninstall tensorflow -y\n",
        "!pip install tensorflow==2.8\n",
        "!pip install keras"
      ]
    },
    {
      "cell_type": "code",
      "execution_count": 4,
      "metadata": {
        "id": "KhPTvO5LoGHN"
      },
      "outputs": [],
      "source": [
        "import os\n",
        "import random\n",
        "from glob import glob\n",
        "import tensorflow as tf\n",
        "from tensorflow import keras\n",
        "from tensorflow.keras import layers"
      ]
    },
    {
      "cell_type": "code",
      "execution_count": 5,
      "metadata": {
        "colab": {
          "base_uri": "https://localhost:8080/"
        },
        "id": "xo6Hsb0boroF",
        "outputId": "1a3af5bf-23a2-4f2f-aac0-6afafe014ef7"
      },
      "outputs": [
        {
          "output_type": "execute_result",
          "data": {
            "text/plain": [
              "[]"
            ]
          },
          "metadata": {},
          "execution_count": 5
        }
      ],
      "source": [
        "tf.config.list_physical_devices('GPU')"
      ]
    },
    {
      "cell_type": "code",
      "execution_count": 6,
      "metadata": {
        "id": "39a9jdsUov2Z"
      },
      "outputs": [],
      "source": [
        "class TokenEmbedding(layers.Layer):\n",
        "\n",
        "  def __init__(self,num_vocab=1000,maxlen=100,num_hid=64):\n",
        "\n",
        "    super().__init__()\n",
        "    self.emb=tf.keras.layers.Embedding(num_vocab,num_hid)\n",
        "    self.pos_emb=layers.Embedding(input_dim=maxlen,output_dim=num_hid)\n",
        "\n",
        "\n",
        "  def call(self,x):\n",
        "\n",
        "    maxlen=tf.shape[x][-1]\n",
        "    x=self.emb(x)\n",
        "\n",
        "    positions=tf.range(start=0,limit=maxlen,delta=1)\n",
        "    positions=self.pos_emb(positions)\n",
        "\n",
        "    return x+positions\n",
        "\n"
      ]
    },
    {
      "cell_type": "code",
      "execution_count": 7,
      "metadata": {
        "id": "9hW7Uy4TrFkL"
      },
      "outputs": [],
      "source": [
        "class SpeechFeatureEmbedding(layers.Layer):\n",
        "\n",
        "  def __init__(self,num_hid=64,maxlen=100):\n",
        "\n",
        "    super().__init__()\n",
        "    self.conv1=tf.keras.layers.Conv1D(\n",
        "        num_hid,11,strides=2,padding=\"same\",activation=\"relu\"\n",
        "    )\n",
        "\n",
        "    self.conv2=tf.keras.layers.Conv1D(\n",
        "        num_hid,11,strides=2,padding=\"same\",activation=\"relu\"\n",
        "    )\n",
        "    self.conv3=tf.keras.layers.Conv1D(\n",
        "        num_hid,11,strides=2,padding=\"same\",activation=\"relu\"\n",
        "    )\n",
        "\n",
        "    self.pos_emb=layers.Embedding(input_dim=maxlen,output_dim=num_hid)\n",
        "\n",
        "\n",
        "  def call(self,x):\n",
        "\n",
        "    x=self.conv1(x)\n",
        "    x=self.conv2(x)\n",
        "\n",
        "    return self.conv3(x)"
      ]
    },
    {
      "cell_type": "code",
      "execution_count": 8,
      "metadata": {
        "id": "u3Z_w7A5vpwp"
      },
      "outputs": [],
      "source": [
        "class TransformerEncoder(layers.Layer):\n",
        "\n",
        "  def __init__(self,embed_dim,num_heads,feed_forward_dim,rate=0.1):\n",
        "\n",
        "    super().__init__()\n",
        "\n",
        "    self.att=layers.MultiHeadAttention(\n",
        "        num_heads=num_heads,key_dim=embed_dim\n",
        "    )\n",
        "    self.ffn=keras.Sequential(\n",
        "        [\n",
        "          layers.Dense(feed_forward_dim,activation='relu'),\n",
        "          layers.Dense(embed_dim),\n",
        "        ]\n",
        "    )\n",
        "\n",
        "    self.layernorm1=layers.LayerNormalization(epsilon=1e-6)\n",
        "    self.layernorm2=layers.LayerNormalization(epsilon=1e-6)\n",
        "\n",
        "    self.dropout=layers.Dropout(rate)\n",
        "    self.dropout=layers.Dropout(rate)\n",
        "\n",
        "\n",
        "  def call(self,inputs,training):\n",
        "\n",
        "    attn_ouput=self.att(inputs,inputs)\n",
        "\n",
        "    attn_output=self.dropout(attn_output,training=training)\n",
        "    out1=self.layernorm1(inputs+attn_output)\n",
        "    ffn_output=self.ffn(out1)\n",
        "    ffn_output=self.dropout2(ffn_output,training=training)\n",
        "\n",
        "    return self.layernom2(out1+ffn_output)\n",
        "\n"
      ]
    },
    {
      "cell_type": "code",
      "execution_count": 9,
      "metadata": {
        "id": "66sqJ6qIzHeh"
      },
      "outputs": [],
      "source": [
        "class TransformerDecoder(layers.Layer):\n",
        "\n",
        "\n",
        "  def __init__(self,embed_dim,num_heads,feed_forward_dim,dropout_rate=0.1):\n",
        "\n",
        "    super().__init__()\n",
        "\n",
        "    self.layernorm1=layers.LayerNormalization(epsilon=1e-6)\n",
        "    self.layernom2=layers.LayerNormalization(epsilon=1e-6)\n",
        "    self.layernorm3=layers.LayerNormalization(epsilon=1e-6)\n",
        "\n",
        "    self.self_att=layers.MultiHeadAttention(\n",
        "        num_heads=num_heads,key_dim=embed_dim\n",
        "    )\n",
        "\n",
        "    self.enc_att=layers.MultiheadAttention(num_heads=num_heads,key_dim=embed_dim)\n",
        "\n",
        "    self.self_dropout=layers.Dropout(0.50)\n",
        "    self.enc_dropout=layers.Dropout(0.1)\n",
        "    self.ff_dropout=layers.Dropout(0.1)\n",
        "    self.ffn=keras.Sequential(\n",
        "        [\n",
        "            layers.Dense(feed_forward_dim,activation=\"relu\"),\n",
        "            layers.Dense(embed_dim)\n",
        "        ]\n",
        "    )\n",
        "\n",
        "\n",
        "  def causal_attention_mask(self,batch_size,n_dest,n_src,dtype):\n",
        "\n",
        "    i=tf.range(n_dest)[:,None]\n",
        "\n",
        "    j=tf.range(n_src)\n",
        "\n",
        "    m=i>=j -n_src+n_dest\n",
        "\n",
        "    mask=tf.cast(m,dtype)\n",
        "    mask=tf.reshape(mask,[1,n_dest,n_src])\n",
        "    mult=tf.concat(\n",
        "        [tf.expand_dims(batch_size,-1),tf.constant([1,1],dtype=tf.int32)],0\n",
        "    )\n",
        "\n",
        "    return tf.tile(mask,mult)\n",
        "\n",
        "\n",
        "  def call(self,enc_out,target):\n",
        "\n",
        "    input_shape=tf.shape(target)\n",
        "\n",
        "    batch_size=input_shape[0]\n",
        "\n",
        "    seq_len=input_shape[1]\n",
        "\n",
        "    causal_mask=self.causal_attention_mask(batch_size,seq_len,seq_len,tf.bool)\n",
        "    target_att=self.self_att(target,target,attention_mask=causal_mask)\n",
        "\n",
        "    target_norm=self.layernorm1(target+self.self_dropout(target_att))\n",
        "\n",
        "    enc_out=self.enc_att(target_norm,enc_out)\n",
        "    enc_out_norm=self.layernorm2(self.enc_dropout(enc_out)+target_norm)\n",
        "    ffn_out=self.ffn(enc_out_norm)\n",
        "\n",
        "    ffn_out_norm=self.layernorm3(enc_out_norm+self.ffn_dropout(ffn_out))\n",
        "\n",
        "    return ffn_out_norm\n",
        "\n",
        "\n",
        "\n",
        "\n"
      ]
    },
    {
      "cell_type": "code",
      "execution_count": 10,
      "metadata": {
        "id": "jphq7uEm7Opc"
      },
      "outputs": [],
      "source": [
        "class Transformer(keras.Model):\n",
        "\n",
        "  def __init__(\n",
        "      self,\n",
        "      num_hid=64,\n",
        "      num_head=2,\n",
        "      num_feed_forward=128,\n",
        "      source_maxlen=100,\n",
        "      target_maxlen=100,\n",
        "      num_layers_enc=4,\n",
        "      num_layers_dec=1,\n",
        "      num_classes=10,\n",
        "\n",
        "  ):\n",
        "\n",
        "    super().__init__()\n",
        "    self.loss_metric=keras.metrics.Mean(name=\"loss\")\n",
        "    self.num_layers_enc=num_layers_enc\n",
        "    self.num_layers_dec=num_layers_dec\n",
        "    self.target_maxlen=target_maxlen\n",
        "    self.num_classes=num_classes\n",
        "    self.enc_input=SpeechFeatureEmbedding(\n",
        "      num_hid=num_hid,\n",
        "      maxlen=source_maxlen\n",
        "    )\n",
        "\n",
        "    self.dec_input=TokenEmbedding(\n",
        "      num_vocab=num_classes,maxlen=target_maxlen,num_hid=num_hid\n",
        "    )\n",
        "\n",
        "    self.encoder=keras.Sequential(\n",
        "\n",
        "      [self.enc_input]+[TransformerEncoder(num_hid,num_head,num_feed_forward) for _ in range(num_layers_enc)]\n",
        "    )\n",
        "\n",
        "    for i in range(num_layers_dec):\n",
        "\n",
        "      setattr(\n",
        "\n",
        "        self,\n",
        "        f\"dec_layer_{i}\",\n",
        "        TransformerDecoder(\n",
        "          num_hid,num_head,num_feed_forward\n",
        "        )\n",
        "      )\n",
        "\n",
        "    self.classifier=layers.Dense(num_classes)\n",
        "\n",
        "\n",
        "  def decode(self,enc_out,target):\n",
        "\n",
        "    y=self.dec_input(target)\n",
        "    for i in range(self.num_layers_dec):\n",
        "\n",
        "      y=getattr(self,f\"dec_layer_{i}\")(enc_out,y)\n",
        "\n",
        "    return y\n",
        "\n",
        "  def call(self,inputs):\n",
        "\n",
        "    source=inputs[0]\n",
        "    target=inputs[1]\n",
        "    x=self.encoder(source)\n",
        "    y=self.decode(x,target)\n",
        "\n",
        "    return self.classifier(y)\n",
        "\n",
        "  @property\n",
        "  def metrics(self):\n",
        "\n",
        "    return [self.loss_metric]\n",
        "\n",
        "  def train_step(self,batch):\n",
        "\n",
        "    source=batch[\"source\"]\n",
        "    target=batch[\"target\"]\n",
        "    dec_input=target[:,:-1]\n",
        "    dec_target=target[:,1:]\n",
        "\n",
        "    with tf.GradientTape() as tape:\n",
        "\n",
        "      preds=self([source,dec_input])\n",
        "      one_hot=tf.one_hot(dec_target,depth=self.num_classes)\n",
        "      mask=tf.math.logical_not(tf.math.equal(dec_target,0))\n",
        "      loss=self.compiled_loss(one_hot,preds,sample_weight=mask)\n",
        "\n",
        "    trainable_vars=self.trainable_variables\n",
        "    gradients=tape.gradient(loss,trainable_vars)\n",
        "    self.optimizer.apply_gradients(zip(gradients,trainable_vars))\n",
        "    self.loss_metric.update_state(loss)\n",
        "\n",
        "    return {\"loss\":self.loss_metric.result()}\n",
        "\n",
        "  @property\n",
        "  def val_loss(self):\n",
        "\n",
        "    return self.loss_metric.result()\n",
        "\n",
        "\n",
        "  def test_step(self,batch):\n",
        "\n",
        "    source=batch['source']\n",
        "    target=batch['target']\n",
        "    dec_input=target[:,:-1]\n",
        "    dec_target=target[:,1:]\n",
        "    preds=self([source,dec_input])\n",
        "\n",
        "    one_hot=tf.one_hot(dec_target,self.num_classes)\n",
        "    mask=tf.math.logical_not(tf.math.equal(dec_target,0))\n",
        "    loss=self.complied_loss(one_hot,preds,sample_weight=mask)\n",
        "    self.loss_metric.update_state(loss)\n",
        "\n",
        "    return {\"loss\":self.loss_metric.result()}\n",
        "\n",
        "  def generate(self,source,target_start_token_idx):\n",
        "\n",
        "    bs=tf.shape(source)[0]\n",
        "\n",
        "    enc=self.encoder(source)\n",
        "    dec_input=tf.ones((bs,1),\n",
        "                      dtype=tf.int32)*target_start_token_idx\n",
        "\n",
        "    dec_logits=[]\n",
        "\n",
        "    for _ in range(self.target_maxlen-1):\n",
        "\n",
        "      dec_out=self.decode(enc,dec_input)\n",
        "      logits=self.classifier(dec_out)\n",
        "      logits=tf.argmax(logits,axis=-1,output_type=tf.int32)\n",
        "      last_logit=tf.expand_dims(logits[:,-1],axis=-1)\n",
        "      dec_logits.append(last_logit)\n",
        "\n",
        "      dec_input=tf.concat([dec_input,last_logit],axis=-1)\n",
        "\n",
        "    return dec_input\n"
      ]
    },
    {
      "cell_type": "code",
      "execution_count": 11,
      "metadata": {
        "id": "2UqO7m1qkAXe"
      },
      "outputs": [],
      "source": [
        "def get_data(wavs,id_to_text,maxlen=50):\n",
        "\n",
        "    data=[]\n",
        "\n",
        "    for w in wavs:\n",
        "\n",
        "        id=w.split('/')[-1].split('.')[0]\n",
        "\n",
        "        if len(id_to_text)<maxlen:\n",
        "\n",
        "            data.append({\"audio\":w,\"text\":id_to_text[id]})\n",
        "\n",
        "    return data\n"
      ]
    },
    {
      "cell_type": "code",
      "execution_count": 12,
      "metadata": {
        "id": "kVnLYLLrkAXg"
      },
      "outputs": [],
      "source": [
        "from typing import Any\n",
        "\n",
        "\n",
        "class VectorizeChar:\n",
        "\n",
        "    def __init__(self,max_len=50):\n",
        "\n",
        "\n",
        "        self.vocab=(\n",
        "            [\"-\",\"#\",\"<\",'>']\n",
        "            + [chr(i+96) for i in range(1,27)]\n",
        "            + [\" \", \" .\",\" ,\",\" ?\"]\n",
        "\n",
        "        )\n",
        "\n",
        "        self.max_len=max_len\n",
        "        self.char_to_idx={}\n",
        "\n",
        "        for i,ch in enumerate(self.vocab):\n",
        "\n",
        "            self.char_to_idx=i\n",
        "\n",
        "    def __call__(self, text):\n",
        "\n",
        "        text=text.lower()\n",
        "        text=text[:self.max_len-2]\n",
        "        text=\"<\"+text+\">\"\n",
        "        pad_len=self.max_len-len(text)\n",
        "\n",
        "        return [self.char_to_idx.get(ch,1) for ch in text]+[0]*pad_len\n",
        "\n",
        "\n",
        "    def get_vocabulary(self):\n",
        "\n",
        "        return self.vocab\n",
        "\n",
        "\n",
        "\n"
      ]
    },
    {
      "cell_type": "code",
      "execution_count": 13,
      "metadata": {
        "id": "FbJYhAarkAXh"
      },
      "outputs": [],
      "source": [
        "max_targe_len=200\n",
        "# data=get_data(wavs,id_to_text,maxlen=max_target_len)\n",
        "vectorizer=VectorizeChar(max_targe_len)"
      ]
    },
    {
      "cell_type": "code",
      "execution_count": 14,
      "metadata": {
        "id": "VKuD3gkckAXi"
      },
      "outputs": [],
      "source": [
        "def create_text_ds(data):\n",
        "\n",
        "    texts=[_[\"text\"] for _ in data]\n",
        "    text_ds=[vectorizer(t)for t in texts]\n",
        "    text_ds=tf.data.Dataset.from_tensor_slices(text_ds)\n",
        "\n",
        "    return text_ds\n",
        "\n",
        "def path_to_audio(path):\n",
        "\n",
        "    audio=tf.io.read_file(path)\n",
        "    audio,_=tf.audio.decode_wav(audio,1)\n",
        "    audio=tf.squeeze(audio,axis=-1)\n",
        "    stfts=tf.signal.stft(audio,frame_length=200,frame_step=80,fft_length=256)\n",
        "    x=tf.math.pow(tf.abs(stfts),0.5)\n",
        "    means=tf.math.reduce_mean(x,1,keepdims=True)\n",
        "    stddevs=tf.math.reduce_std(x,1,keepdims=True)\n",
        "    x=(x-means)/stddevs\n",
        "\n",
        "    pad_len=2754\n",
        "    paddings=tf.constant([[0,pad_len],[0,0]])\n",
        "    x=tf.pad(x,paddings,\"CONSTANT\")[:pad_len,:]\n",
        "\n",
        "    return x\n",
        "\n",
        "\n",
        "def create_audio_ds(data):\n",
        "\n",
        "    flist=[_[\"audio\"] for _ in data]\n",
        "    audio_ds=tf.data.Dataset.from_tensor_slices(flist)\n",
        "    audio_ds=audio_ds.map(path_to_audio,num_parallel_calls=tf.data.AUTOTUNE)\n",
        "\n",
        "    return audio_ds\n",
        "\n",
        "def create_tf_dataset(data,bs=4):\n",
        "\n",
        "    audio_ds=create_audio_ds(data)\n",
        "    text_ds=create_text_ds(data)\n",
        "\n",
        "    ds=tf.data.Dataset.zip(audio_ds,text_ds)\n",
        "    ds=ds.map(lambda x,y:{\"source\":x,\"target\":y})\n",
        "    ds=ds.batch(bs)\n",
        "    ds=ds.prefetch(tf.data.AUTOTUNE)\n",
        "\n",
        "    return ds\n",
        "\n",
        "\n"
      ]
    },
    {
      "cell_type": "code",
      "execution_count": null,
      "metadata": {
        "id": "ITPvfsYNkAXj"
      },
      "outputs": [],
      "source": [
        "split=int(len(data)*0.99)\n",
        "\n",
        "train_data=data[:split]\n",
        "test_data=data[split:]\n",
        "ds=create_tf_dataset(train_data,bs=16)\n",
        "val_ds=create_tf_dataset(test_data,bs=4)\n",
        "\n"
      ]
    },
    {
      "cell_type": "markdown",
      "metadata": {
        "id": "wWPs0EdqkAXk"
      },
      "source": [
        "# Callbacks to display predictions"
      ]
    },
    {
      "cell_type": "code",
      "execution_count": 15,
      "metadata": {
        "id": "PAioPFaFkAXo"
      },
      "outputs": [],
      "source": [
        "class DisplayOutputs(keras.callbacks.Callback):\n",
        "\n",
        "    def __init__(\n",
        "\n",
        "            self,batch,idx_to_token,target_start_token_idx=27,\n",
        "            target_end_token_idx=28\n",
        "    ):\n",
        "\n",
        "        \"\"\"Displaying a batch of outputs after every epoch\n",
        "        Args:\n",
        "            batch: a test batch containing the keys 'source' and 'target'Any\n",
        "            idx_to_token: a list containing the vocabulary token corresponding to their indices\n",
        "            target_start_token_idx: a start token index in the target vocab\n",
        "            target_end_token_idx: an end token index in the target vocabulary\n",
        "        \"\"\"\n",
        "\n",
        "        self.batch=batch\n",
        "        self.target_start_token_idx=target_start_token_idx\n",
        "        self.target_end_token_idx=target_end_token_idx\n",
        "        self.idx_to_char=idx_to_token\n",
        "\n",
        "    def on_epoch_end(self,epoch,logs=None):\n",
        "\n",
        "        if epoch%5!=0:\n",
        "\n",
        "            return\n",
        "\n",
        "        source=self.batch['source']\n",
        "\n",
        "        target=self.batch['target'].numpy()\n",
        "        bs=tf.shape(source)[0]\n",
        "\n",
        "        preds=self.model.generate(source,self.target_start_token_idx)\n",
        "        preds=preds.numpy()\n",
        "\n",
        "        for i in range(bs):\n",
        "\n",
        "            target_text=\"\".join([self.idx_to_char[_] for _ in target[i,:]])\n",
        "\n",
        "            prediction=\"\"\n",
        "\n",
        "            for idx in preds[i,:]:\n",
        "\n",
        "                prediction+=self.idx_to_char[idx]\n",
        "\n",
        "                if idx==self.target_end_token_idx:\n",
        "\n",
        "                    break\n",
        "                print(f\"target: {target_text.replace('-','')}\")\n",
        "                print(f\"prediction: {prediction}\\n\")\n"
      ]
    },
    {
      "cell_type": "code",
      "execution_count": 23,
      "metadata": {
        "id": "DmmdROBLkAXp"
      },
      "outputs": [],
      "source": [
        "class CustomSchedule(keras.optimizers.schedules.LearningRateSchedule):\n",
        "\n",
        "  def __init__( self,\n",
        "    init_lr=0.00001,\n",
        "    lr_after_warmup=0.001,\n",
        "    final_lr=0.00001,\n",
        "    warmup_epochs=15,\n",
        "    decay_epochs=85,\n",
        "    steps_per_epoch=203,):\n",
        "\n",
        "    super().__init__()\n",
        "    self.init_lr=init_lr\n",
        "    self.lr_after_warmup=lr_after_warmup\n",
        "    self.final_lr=final_lr\n",
        "    self.warmup_epochs=warmup_epochs\n",
        "    self.decay_epochs=decay_epochs\n",
        "    self.steps_per_epoch=steps_per_epoch\n",
        "\n",
        "  def calculate_lr(self,epoch):\n",
        "\n",
        "    \"\"\"linear warm up -linear decay\"\"\"\n",
        "\n",
        "    warmup_lr=(\n",
        "\n",
        "               self.init_lr+((self.lr_after_warmup-self.init_lr)/(self.warmup_epochs-1))*epoch\n",
        "    )\n",
        "\n",
        "    decay_lr=tf.math.maximum(\n",
        "        self.final_lr,\n",
        "        self.lr_after_warmup-(epoch(self.warmup_epochs)\n",
        "        *(self.lr_after_warmup-self.final_lr)\n",
        "        /(self.decay_epochs))\n",
        "    )\n",
        "\n",
        "    return tf.math.minimum(warmup_lr,decay_lr)\n",
        "\n",
        "  def __call__(self,step):\n",
        "\n",
        "      epoch=step//self.steps_per_epoch\n",
        "\n",
        "      return self.calculate_lr(epoch)\n"
      ]
    },
    {
      "cell_type": "markdown",
      "source": [
        "# Create & train the end to end model"
      ],
      "metadata": {
        "id": "mG-iSHuypR_Y"
      }
    },
    {
      "cell_type": "code",
      "source": [],
      "metadata": {
        "id": "vYIWK_ZEpRFO"
      },
      "execution_count": null,
      "outputs": []
    },
    {
      "cell_type": "code",
      "execution_count": null,
      "metadata": {
        "id": "ymDbweuvkAXq"
      },
      "outputs": [],
      "source": []
    },
    {
      "cell_type": "code",
      "execution_count": null,
      "metadata": {
        "id": "fjNTdhMwkAXq"
      },
      "outputs": [],
      "source": []
    },
    {
      "cell_type": "code",
      "execution_count": null,
      "metadata": {
        "id": "NcAodJZYkAXq"
      },
      "outputs": [],
      "source": []
    },
    {
      "cell_type": "code",
      "execution_count": null,
      "metadata": {
        "id": "N55o1QZwkAXr"
      },
      "outputs": [],
      "source": []
    },
    {
      "cell_type": "code",
      "execution_count": null,
      "metadata": {
        "id": "_LukplXdkAXr"
      },
      "outputs": [],
      "source": []
    },
    {
      "cell_type": "code",
      "execution_count": null,
      "metadata": {
        "id": "--Q_zK-_kAXr"
      },
      "outputs": [],
      "source": []
    },
    {
      "cell_type": "code",
      "execution_count": null,
      "metadata": {
        "id": "AsX4jNiLkAXs"
      },
      "outputs": [],
      "source": []
    },
    {
      "cell_type": "code",
      "execution_count": null,
      "metadata": {
        "id": "bEC9dyP8kAXt"
      },
      "outputs": [],
      "source": []
    },
    {
      "cell_type": "code",
      "execution_count": null,
      "metadata": {
        "id": "L8H3MZ1MkAXu"
      },
      "outputs": [],
      "source": []
    }
  ],
  "metadata": {
    "accelerator": "GPU",
    "colab": {
      "gpuType": "T4",
      "provenance": [],
      "include_colab_link": true
    },
    "kernelspec": {
      "display_name": "Python 3",
      "name": "python3"
    },
    "language_info": {
      "codemirror_mode": {
        "name": "ipython",
        "version": 3
      },
      "file_extension": ".py",
      "mimetype": "text/x-python",
      "name": "python",
      "nbconvert_exporter": "python",
      "pygments_lexer": "ipython3",
      "version": "3.9.10"
    }
  },
  "nbformat": 4,
  "nbformat_minor": 0
}